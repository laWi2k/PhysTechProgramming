{
  "cells": [
    {
      "cell_type": "code",
      "execution_count": null,
      "metadata": {
        "id": "WY1BhF4zQUaD"
      },
      "outputs": [],
      "source": [
        "%matplotlib inline\n",
        "import numpy as np\n",
        "import matplotlib.pyplot as plt"
      ]
    },
    {
      "cell_type": "markdown",
      "metadata": {
        "id": "xLmj7l8yQUaG"
      },
      "source": [
        "# Проблема I"
      ]
    },
    {
      "cell_type": "markdown",
      "metadata": {
        "id": "mNvrqeyoQUaI"
      },
      "source": [
        "В этой лабораторной мы попробуем оценить точность результата вычисления по внешне невинной формуле в арифметике с плавающей запятой.\n",
        "Обычно делая арифметические операции мы не задумываемся над точностью результата, однако даже одна операция может значительно ухудшить точность.\n",
        "Рассмотрим несколько примеров."
      ]
    },
    {
      "cell_type": "markdown",
      "metadata": {
        "id": "tMPimYThQUaJ"
      },
      "source": [
        "Чтобы оценить точность вычислений, нам необходимо знать точный ответ.\n",
        "Так как мы только хотим проиллюстрировать одну из проблем с потерей точности,\n",
        "то мы можем сами сконструировать формулу так, чтобы точных ответ был заранее известен.\n",
        "Мы будем вычислять значение функции, которая эквивалента в точной арифметике тождественному преобразованию, т.е. точный результат вычисления фукнции совпадает с аргументом функции:\n",
        "$$f(x)=x.$$\n",
        "Однако в арифметике с плавающей запятой не все свойства арифметических операций верны,\n",
        "поэтому результат будет получаться с ошибкой.\n",
        "Мы будем вычислять относительную ошибку по обыкновенной формуле:\n",
        "$$\\sigma(x_0,x)=\\frac{|x_0-x|}{|x_0|},$$\n",
        "где $x_0$ - точное значение, а $x$ - приближенное.\n"
      ]
    },
    {
      "cell_type": "code",
      "execution_count": null,
      "metadata": {
        "id": "QLO9NyrPQUaJ"
      },
      "outputs": [],
      "source": [
        "def relative_error(x0, x): return np.abs(x0-x)/np.abs(x0)"
      ]
    },
    {
      "cell_type": "markdown",
      "metadata": {
        "id": "6xIx7J23QUaJ"
      },
      "source": [
        "Исходные данные нам даны с точностью представления вещественных чисел числами с плавающей запятой, т.е. с половиной машинной точности.\n",
        "Мы будем проводить вычисления в арифметике двойной точности."
      ]
    },
    {
      "cell_type": "code",
      "execution_count": null,
      "metadata": {
        "id": "9jiXXLZxQUaJ",
        "outputId": "ae123393-6227-4c5a-8f5a-ff8e9a1d0f56"
      },
      "outputs": [
        {
          "name": "stdout",
          "output_type": "stream",
          "text": [
            "Машинная точность: 2.220446049250313e-16\n"
          ]
        }
      ],
      "source": [
        "eps=np.finfo(np.double).eps\n",
        "print(\"Машинная точность:\",eps)"
      ]
    },
    {
      "cell_type": "markdown",
      "metadata": {
        "id": "4z49bnB7QUaK"
      },
      "source": [
        "Рассмотрим функцию, выполняющую $n$ делений на число $d$, а затем $n$  умножений на $d$.\n",
        "Ясно, что в точной арифметике эта функция не должна изменять аргумент."
      ]
    },
    {
      "cell_type": "code",
      "execution_count": null,
      "metadata": {
        "id": "PtwP7QkwQUaK"
      },
      "outputs": [],
      "source": [
        "def f_div_mult(x, d=np.pi, n=52):\n",
        "    for k in range(n): x=x/d\n",
        "    for k in range(n): x=x*d\n",
        "    return x"
      ]
    },
    {
      "cell_type": "markdown",
      "metadata": {
        "id": "7efhj5H1QUaK"
      },
      "source": [
        "Создадим набор тестовых значений и проверим точность вычислений на этом наборе."
      ]
    },
    {
      "cell_type": "code",
      "execution_count": null,
      "metadata": {
        "id": "nmNoNe2qQUaK",
        "outputId": "c893218d-4fbe-4f05-ef3c-0ff684abdda3"
      },
      "outputs": [
        {
          "name": "stdout",
          "output_type": "stream",
          "text": [
            "Ошибки [1.35525272e-16 3.37546384e-16 5.60473876e-16 4.65315259e-16] ...\n"
          ]
        }
      ],
      "source": [
        "x0=np.logspace(-4,4,100,dtype=np.double)\n",
        "x=f_div_mult(x0)\n",
        "err=relative_error(x0, x)\n",
        "print(\"Ошибки\",err[:4],\"...\")"
      ]
    },
    {
      "cell_type": "markdown",
      "metadata": {
        "id": "K7XPhcDBQUaK"
      },
      "source": [
        "Гораздо лучше результаты воспринимаются на картинке.\n",
        "При оценки точности мы всегда выводим относительную ошибку в логарифмической шкале."
      ]
    },
    {
      "cell_type": "code",
      "execution_count": null,
      "metadata": {
        "id": "yAXoYadxQUaL",
        "outputId": "98be55bf-157e-43ce-eccf-df1ab92583e9"
      },
      "outputs": [
        {
          "data": {
            "image/png": "[encoded data removed]",
            "text/plain": [
              "<Figure size 432x288 with 1 Axes>"
            ]
          },
          "metadata": {
            "needs_background": "light"
          },
          "output_type": "display_data"
        }
      ],
      "source": [
        "def plot_error(x0,err):\n",
        "    mask=np.logical_and(err>0,err<np.inf)\n",
        "    plt.loglog(x0[mask],err[mask],\".k\")\n",
        "    plt.loglog(x0,[eps]*len(err),\"--r\") # машинная точность для сравнения\n",
        "    plt.xlabel(\"$Значение\\;аргумента$\")\n",
        "    plt.ylabel(\"$Относительная\\;погрешность$\")\n",
        "    plt.show()\n",
        "\n",
        "plot_error(x0,err)"
      ]
    },
    {
      "cell_type": "markdown",
      "metadata": {
        "id": "1FR72Pt-QUaL"
      },
      "source": [
        "Мы видим, что погрешность в несколько раз больше машинной точности, обозначенной красной пунктирной линией, однако погрешность остается пренебрежимо малой.\n",
        "Рассмотрим другую функцию, очень похожу на предыдущую, однако теперь мы будем сначала извлекать корни, а затем возводить результат в квадрат."
      ]
    },
    {
      "cell_type": "code",
      "execution_count": null,
      "metadata": {
        "id": "V6kERTOkQUaL"
      },
      "outputs": [],
      "source": [
        "def f_sqrt_sqr(x, n=52):\n",
        "    for k in range(n): x=np.sqrt(x)\n",
        "    for k in range(n): x=x*x\n",
        "    return x"
      ]
    },
    {
      "cell_type": "markdown",
      "metadata": {
        "id": "zZnKQX8LQUaL"
      },
      "source": [
        "Проведем вычисления и построим график ошибки на том же наборе значений."
      ]
    },
    {
      "cell_type": "code",
      "execution_count": null,
      "metadata": {
        "id": "UGakR-75QUaL",
        "outputId": "0380e4f1-56a2-4f21-d5e2-f3bf2da6483c"
      },
      "outputs": [
        {
          "data": {
            "image/png": "[encoded data removed]",
            "text/plain": [
              "<Figure size 432x288 with 1 Axes>"
            ]
          },
          "metadata": {
            "needs_background": "light"
          },
          "output_type": "display_data"
        }
      ],
      "source": [
        "x=f_sqrt_sqr(x0)\n",
        "err=relative_error(x0, x)\n",
        "plot_error(x0, err)"
      ]
    },
    {
      "cell_type": "markdown",
      "metadata": {
        "id": "zHTPbAc-QUaL"
      },
      "source": [
        "Ошибка почти 100%!\n",
        "Как такое могло произойти?\n",
        "Не возникло исключений, нет сообщений об ошибках, но результат не содержит ни одной верной цифры.\n",
        "\n",
        "Большинство людей предполагают, что причина столь большой ошибки заключается в том, что квадратный корень нельзя вычислить точно.\n",
        "Чтобы проверить это утверждение мы снова вычислим 52 квадратных корня и 52 квадрата, но изменим порядок вычислений на следующий: корень, квадрат, корень, квадрат,.."
      ]
    },
    {
      "cell_type": "code",
      "execution_count": null,
      "metadata": {
        "id": "tb_gjWrfQUaM",
        "outputId": "b04eb95c-a501-4437-cad7-de57678bc38a"
      },
      "outputs": [
        {
          "data": {
            "image/png": "[encoded data removed]",
            "text/plain": [
              "<Figure size 432x288 with 1 Axes>"
            ]
          },
          "metadata": {
            "needs_background": "light"
          },
          "output_type": "display_data"
        }
      ],
      "source": [
        "def f_sqrt_sqr_interleave(x, n=52):\n",
        "    for k in range(n):\n",
        "        x=np.sqrt(x)\n",
        "        x=x*x\n",
        "    return x\n",
        "\n",
        "x=f_sqrt_sqr_interleave(x0)\n",
        "err=relative_error(x0, x)\n",
        "plot_error(x0, err)"
      ]
    },
    {
      "cell_type": "markdown",
      "metadata": {
        "id": "VCPdwy5lQUaM"
      },
      "source": [
        "Теперь мы получаем результат примерно с машинной точностью.\n",
        "Как можно обьяснить тот факт, что выполняя одни и те же операции в разном порядке, можно получить на много порядков отличающиеся ошибки?"
      ]
    },
    {
      "cell_type": "markdown",
      "metadata": {
        "id": "uSPdxG3uQUaM"
      },
      "source": [
        "## Задание"
      ]
    },
    {
      "cell_type": "markdown",
      "metadata": {
        "id": "pbUVjbtBQUaM"
      },
      "source": [
        "1. Обьясните, чем отличаются два рассмотренных примера? Почему настолько отличается точность вычислений?\n",
        "2. Предложите альтернативный способвычислений, который будет находить 52 корня из данного числа с такой точностью, что последующее возведение в квадрат 52 раза будет давать исходное число с относительной погрешностью близкой к машинной точности."
      ]
    },
    {
      "cell_type": "markdown",
      "metadata": {
        "id": "ZSSHAw-kQUaM"
      },
      "source": [
        "### Указания"
      ]
    },
    {
      "cell_type": "markdown",
      "metadata": {
        "id": "SLo0qHAKQUaM"
      },
      "source": [
        "1. При выполнении второго задания возникает соблазн перейти к арифметике повышенной точности, однако лучше поискать другое решение. Представьте, что вам нужно посчитать миллион корней, тогда даже повышенной точности будет недостаточно.\n",
        "2. Во втором задание требуется найти результат вычисления 52 корней с высокой точностью. Результатом является одно число. Поэтому не принимаются решения, использующие при вычислении квадратов вспомогательную информацию, сохраненную при вычислении квадратных корней (например, погрешность вычисления каждого корня)."
      ]
    },
    {
      "cell_type": "markdown",
      "metadata": {
        "id": "-w-9zBA2QUaM"
      },
      "source": [
        "### Подсказка 1"
      ]
    },
    {
      "cell_type": "markdown",
      "metadata": {
        "id": "vCZME44jQUaM"
      },
      "source": [
        "Рассмотрим приближенное значение $x$ некоторой величины $x_0$ с относительной погрешностью $\\delta$, тогда $x$ выражается через точное значение и погрешность следующим образом: $$x=x_0(1+\\delta).$$\n",
        "Рассмотрим теперь некоторую степень $\\alpha$ значения $x$:\n",
        "$$x^\\alpha=x_0^\\alpha(1+\\delta)^\\alpha\\approx x_0^\\alpha(1+\\alpha\\delta),$$\n",
        "где мы воспользовались эквивалентностью $(1+\\delta)^\\alpha\\sim 1+\\alpha\\delta$ для бесконечно малых $\\delta$.\n",
        "Второе слагаемое в скобках равно погрешностьи вычисления степени, т.е. при вычислении степени $\\alpha$ погрешность аргумента увеличивается в $\\alpha$ раз.\n",
        "Следовательно при вычислении квадратов относительная погрешность быстро увеличивается, а при вычислении квадратных корней - уменьшается."
      ]
    },
    {
      "cell_type": "markdown",
      "metadata": {
        "id": "QznT3w-AQUaM"
      },
      "source": [
        "### Подсказка 2"
      ]
    },
    {
      "cell_type": "markdown",
      "metadata": {
        "id": "a3ytGpsrQUaM"
      },
      "source": [
        "Если при вычислении корней получен ответ с машинной точностью $\\epsilon$, то в результате вычисления 52 квадратов погрешность достигнет значения $2^{52}\\epsilon$, что неприемлемо.\n",
        "Следовательно нужно вычислить квадртаные корни с точностью превосходящей $\\epsilon$.\n",
        "Однако сохранить число с плавающей запятой точнее чем с половиной машинной точности нельзя, следовательно необходимо изменить представления чисел.\n",
        "Создание новой реализации чисел с плавающей запятой весьма трудоемко, поэтому создадим свою реализацию на основе имеющихся чисел с плавающей запятой, но будем хранить не само число, а некоторую функцию числа.\n",
        "Например, заметим, что при вычислении квадратного корня результат быстро стремится к 1, поэтому мы можем представлять числа в виде $x=1+\\zeta$, где $\\zeta$ мало.\n",
        "Так как числа с плавающей запятой могут выражать очень малые величины, много меньше машинной точности, то такое представление позволит повысить точность вычислений.\n",
        "При сложении $\\zeta$ с 1 результат будет округлен до 1, поэтому мы нигода не будем явно выполнять это сложение, а будем хранить только $\\zeta$.\n",
        "Однако все арифметические операции должны выполняться так, как если бы они выполнялись над $x$, а не над $\\zeta$.\n",
        "Например, так как результат перемножения $x=1+\\zeta$ и $y=1+\\eta$ равен $x\\cdot y=1+\\zeta+\\eta+\\zeta\\cdot\\eta$, то умножение на нашем представлении чисел определено не как обычное умножение, а как\n",
        "$$(\\zeta,\\eta)\\mapsto \\zeta+\\eta+\\zeta\\cdot\\eta.$$"
      ]
    },
    {
      "cell_type": "code",
      "execution_count": null,
      "metadata": {
        "id": "3SkdjcaAQUaM"
      },
      "outputs": [],
      "source": [
        "# Пример собственной реализации чисел на основе чисел с плавающей запятой\n",
        "class MyNumber(object):\n",
        "    def __init__(self, zeta):\n",
        "        \"\"\"Конструктор принимает zeta, но обьект соответствует числу x=1+zeta.\"\"\"\n",
        "        self.zeta=zeta\n",
        "    def __str__(self):\n",
        "        \"\"\"На экран выводится значение x, которое может быть менее точно,\n",
        "        чем храниемое значение.\"\"\"\n",
        "        return \"{}\".format(self.to_float())\n",
        "    def from_float(x):\n",
        "        \"\"\"Создает число со значением, равным x.\"\"\"\n",
        "        return MyNumber(x-1)\n",
        "    def to_float(self):\n",
        "        \"\"\"Преобразует число в формат с плавающей запятой\"\"\"\n",
        "        return self.zeta+1\n",
        "    def __mul__(self, other):\n",
        "        \"\"\"Перезагрузка операции умножения.\"\"\"\n",
        "        return MyNumber(self.zeta+other.zeta+self.zeta*other.zeta)\n",
        "    #def __mul__(self, other):\n",
        "    #    \"\"\"Так делать нельзя. Как сделать правильно?\"\"\"\n",
        "    #    return MyNumber.from_float(self.to_float()*other.to_float())\n",
        ""
      ]
    },
    {
      "cell_type": "code",
      "execution_count": null,
      "metadata": {
        "id": "7d-SWBYWQUaN",
        "outputId": "4fd577d0-c300-4067-c2c6-ea5a55c7639a"
      },
      "outputs": [
        {
          "name": "stdout",
          "output_type": "stream",
          "text": [
            "Число с плавающей запятой: 3.141592653589793\n",
            "Наше представление числа:  3.141592653589793\n",
            "Квадрат в арифметике с плавающей запятой: 9.869604401089358\n",
            "Квадрат в нашем представлении:            9.869604401089358\n"
          ]
        }
      ],
      "source": [
        "print(\"Число с плавающей запятой:\", np.pi)\n",
        "pi=MyNumber.from_float(np.pi)\n",
        "print(\"Наше представление числа: \", pi)\n",
        "print(\"Квадрат в арифметике с плавающей запятой:\", np.pi*np.pi)\n",
        "print(\"Квадрат в нашем представлении:           \", pi*pi)"
      ]
    },
    {
      "cell_type": "markdown",
      "metadata": {
        "id": "kAz2WPFIQUaN"
      },
      "source": [
        "### Подсказка 3"
      ]
    },
    {
      "cell_type": "markdown",
      "metadata": {
        "id": "vj2v9pqqQUaN"
      },
      "source": [
        "Подумайте, как еще можно было представить числа?\n",
        "Какое преобразование переводи возведение в степень в умножение?\n",
        "Вместо хранения самого числа $x$ можно хранить $y$, такое что $x=\\ln y$, тогда мы фактически получаем новое представление для чисел $x$, однако нам не нужно заново переписывать библиотеки для работы с числами, так как $y$ храниться в виде обычного числа с плавающей запятой.\n",
        "Убедитесь, что в таком представлении при вычислении степеней предельная погрешность почти не изменяется.\n",
        "Если это представление решает проблемы с погрешностью, почему такое представление не используется массово?\n",
        "В исходной формулировке задачи на вход поступает число $x$ в обычном виде числа с плавающей запятой, в таком же виде мы хотим иметь число на выходе вычислений.\n",
        "Какова погрешность преобразования чисел между форматами?\n",
        "Получаем ли мы выигрыш в точности с учетом преобразования форматов?"
      ]
    },
    {
      "cell_type": "markdown",
      "metadata": {
        "id": "WURfE3PjQUaN"
      },
      "source": [
        "# Проблема II"
      ]
    },
    {
      "cell_type": "markdown",
      "metadata": {
        "id": "H15MY-NyQUaN"
      },
      "source": [
        "В машинном обучение часто используется следующий вариант [LogSumExp](https://en.wikipedia.org/wiki/LogSumExp) [гладкого максимума](https://en.wikipedia.org/wiki/Smooth_maximum):\n",
        "\n",
        "$$LSE(x) = \\log(1+e^x).$$\n",
        "\n",
        "В данном случае $LSE(x)\\approx \\max(0,x)$, однако функция дифференциируема, что важно для использования этой функции в искуственных нейронных сетях. График функции действительно напоминает максимум, но сглажен."
      ]
    },
    {
      "cell_type": "code",
      "execution_count": null,
      "metadata": {
        "id": "_BGmv-XPQUaN",
        "outputId": "941387ad-d951-4dc0-9c75-ffbfe34b770b"
      },
      "outputs": [
        {
          "data": {
            "image/png": "[encoded data removed]",
            "text/plain": [
              "<Figure size 432x288 with 1 Axes>"
            ]
          },
          "metadata": {
            "needs_background": "light"
          },
          "output_type": "display_data"
        }
      ],
      "source": [
        "def LSE(x):\n",
        "    return np.log(1+np.exp(x))\n",
        "\n",
        "def max0(x):\n",
        "    return np.maximum(x, 0)\n",
        "\n",
        "xs = np.linspace(-10,10,1000)\n",
        "plt.plot(xs, max0(xs))\n",
        "plt.plot(xs, LSE(xs))\n",
        "plt.xlabel(\"$x$\")\n",
        "plt.ylabel(\"$y$\")\n",
        "plt.legend([\"$\\max(0,x)$\", \"$LSE(x)$\"])\n",
        "plt.show()"
      ]
    },
    {
      "cell_type": "markdown",
      "metadata": {
        "id": "iZG8fZBLQUaO"
      },
      "source": [
        "Диапазон изменения аргумента однако может быть значительно шире представленного на графике.\n",
        "Даже для умеренных значениях аргумента наш способ вычисления функции $LSE$ в числах с плавающей запятой не приводит к успеху."
      ]
    },
    {
      "cell_type": "code",
      "execution_count": null,
      "metadata": {
        "id": "JXvBe2E4QUaO",
        "outputId": "bc38aef5-aedc-4644-b1a7-9f52adc63d99"
      },
      "outputs": [
        {
          "name": "stderr",
          "output_type": "stream",
          "text": [
            "/usr/lib/python3/dist-packages/ipykernel_launcher.py:2: RuntimeWarning: overflow encountered in exp\n",
            "  \n"
          ]
        },
        {
          "data": {
            "image/png": "[encoded data removed]",
            "text/plain": [
              "<Figure size 432x288 with 1 Axes>"
            ]
          },
          "metadata": {
            "needs_background": "light"
          },
          "output_type": "display_data"
        }
      ],
      "source": [
        "xs = np.linspace(-1000,1000,1000)\n",
        "plt.plot(xs, max0(xs))\n",
        "plt.plot(xs, LSE(xs))\n",
        "plt.xlabel(\"$x$\")\n",
        "plt.ylabel(\"$y$\")\n",
        "plt.legend([\"$\\max(0,x)$\", \"$LSE(x)$\"])\n",
        "plt.show()"
      ]
    },
    {
      "cell_type": "markdown",
      "metadata": {
        "id": "4RgM4cNyQUaO"
      },
      "source": [
        "## Задание\n",
        "\n",
        "* Объясните, почему при больших значениях аргумента возникает ошибка вычислений?\n",
        "* Предложите алгоритм вычислений, работающий при всех значениях аргументов."
      ]
    },
    {
      "cell_type": "markdown",
      "metadata": {
        "id": "-fBd80MqQUaO"
      },
      "source": [
        "Производная этой функции также важна и используется при обучении искуственных нейронных сетей.\n",
        "\n",
        "$$\\mathrm{softmax}(x) = LSE'(x) = \\frac{e^x}{1+e^x}.$$\n",
        "\n",
        "График функции выглядит напоминает сглаженную ступеньку."
      ]
    },
    {
      "cell_type": "code",
      "execution_count": null,
      "metadata": {
        "id": "aZPwC52RQUaO",
        "outputId": "c784a9bd-8bd3-435d-8b83-b2d33f0e45c9"
      },
      "outputs": [
        {
          "data": {
            "image/png": "[encoded data removed]",
            "text/plain": [
              "<Figure size 432x288 with 1 Axes>"
            ]
          },
          "metadata": {
            "needs_background": "light"
          },
          "output_type": "display_data"
        }
      ],
      "source": [
        "def softmax(x):\n",
        "    return np.exp(x)/(1+np.exp(x))\n",
        "\n",
        "def step(x):\n",
        "    return 0.5*(np.sign(x)+1)\n",
        "\n",
        "xs = np.linspace(-10,10,1000)\n",
        "plt.plot(xs, step(xs))\n",
        "plt.plot(xs, softmax(xs))\n",
        "plt.xlabel(\"$x$\")\n",
        "plt.ylabel(\"$y$\")\n",
        "plt.legend([\"$step(x)$\", \"$softmax(x)$\"])\n",
        "plt.show()"
      ]
    },
    {
      "cell_type": "markdown",
      "metadata": {
        "id": "ysausAK2QUaP"
      },
      "source": [
        "На больших аргументах эту функцию снова не удается вычислить. Можно ли модифицировать softmax так, чтобы она работала на всем допустимом диапазоне для чисел с плавающей запятой?"
      ]
    },
    {
      "cell_type": "code",
      "execution_count": null,
      "metadata": {
        "id": "5wh4gjygQUaP",
        "outputId": "ccf9f7af-3a99-4ae3-973c-7d69a067c0d2"
      },
      "outputs": [
        {
          "name": "stderr",
          "output_type": "stream",
          "text": [
            "/usr/lib/python3/dist-packages/ipykernel_launcher.py:2: RuntimeWarning: overflow encountered in exp\n",
            "  \n",
            "/usr/lib/python3/dist-packages/ipykernel_launcher.py:2: RuntimeWarning: invalid value encountered in true_divide\n",
            "  \n"
          ]
        },
        {
          "data": {
            "image/png": "[encoded data removed]",
            "text/plain": [
              "<Figure size 432x288 with 1 Axes>"
            ]
          },
          "metadata": {
            "needs_background": "light"
          },
          "output_type": "display_data"
        }
      ],
      "source": [
        "xs = np.linspace(-1000,1000,1000)\n",
        "plt.plot(xs, step(xs))\n",
        "plt.plot(xs, softmax(xs))\n",
        "plt.xlabel(\"$x$\")\n",
        "plt.ylabel(\"$y$\")\n",
        "plt.legend([\"$step(x)$\", \"$softmax(x)$\"])\n",
        "plt.show()"
      ]
    },
    {
      "cell_type": "markdown",
      "metadata": {
        "id": "BZMwymx-QUaP"
      },
      "source": [
        "Попробуем оценить погрешность вычислений функции softmax.\n",
        "Пусть аргумент дан с машинной точностью, т.е. его отонсительная погрешность $\\sigma x=\\epsilon$.\n",
        "\n",
        "Результат вычисления функции имеет вообще говоря погрешность отличную от погрешности аргумента.\n",
        "Например, для произвольной гладкой функции $f(x)$ и малой относительной погрешности $\\sigma x$ аргумента $x$, предельная относительная погрешность результата оценивается по формуле:\n",
        "\n",
        "$$\\sigma f(x)\\approx \\kappa_f(x)\\sigma x,$$\n",
        "\n",
        "где $\\kappa_f(x)$ - число обусловленности для функции $f$ в точке $x$, вычисляемая по формуле:\n",
        "\n",
        "$$\\kappa_f(x)=\\bigg|\\frac{f'(x)x}{f(x)}\\bigg|.$$\n",
        "\n",
        "Для экспоненты число обусловленности равно:\n",
        "\n",
        "$$\\kappa_{exp}(x)=\\bigg|\\frac{e^x x}{e^x}\\bigg|=|x|.$$\n",
        "\n",
        "Значит погрешность вычисления числителя в $softmax$ оценивается так\n",
        "$$\\sigma\\,\\mathrm{softmax}(x)\\leq|x|\\sigma x\\leq|x|\\epsilon.$$\n",
        "\n",
        "Для оценки знаменятеля удобнее использовать абсолютную погрешность:\n",
        "\n",
        "$$|\\Delta(1+e^x)|\\leq|\\Delta 1|+|\\Delta e^x|=0+e^x\\sigma e^x\\leq |x|e^x\\epsilon,$$\n",
        "\n",
        "где мы воспользовались тем фактом, что погрешность константы равна нулю.\n",
        "Отсюда получаем предельную относительную погрешность:\n",
        "\n",
        "$$\\sigma(1+e^x)=\\frac{|\\Delta(1+e^x)|}{1+e^x}\\leq \\frac{e^x}{1+e^x}|x|\\epsilon\\leq |x|\\epsilon.$$\n",
        "\n",
        "При делении предельные относительные погрешности складываются, следовательно:\n",
        "\n",
        "$$\\sigma\\mathrm{softmax}(x)\\leq \\sigma e^x+\\sigma(1+e^x)\\leq 2|x|\\epsilon.$$"
      ]
    },
    {
      "cell_type": "markdown",
      "metadata": {
        "id": "uNILDblXQUaP"
      },
      "source": [
        "Результаты вычислений можно свести в таблицу:\n",
        "\n",
        "|   $a$  |   $\\Delta a$   |  $\\sigma a$ |\n",
        "|--------|----------------|-------------|\n",
        "| $x$  |   |   $\\epsilon$ |\n",
        "| $e^x$ | $e^x|x|\\epsilon$  |  $|x|\\epsilon$ |\n",
        "| $1+e^x$ | $e^x|x|\\epsilon$ | $|x|\\epsilon$ |\n",
        "| $\\frac{e^x}{1+e^x}$ |  | $2|x|\\epsilon$ |\n"
      ]
    },
    {
      "cell_type": "markdown",
      "metadata": {
        "id": "t6Q5i_BzQUaP"
      },
      "source": [
        "Согласно нашим оценкам, погрешность вычислений softmax должна расти с увеличением аргумента.\n",
        "Попробуем оценить реальную погрешность.\n",
        "Функция softmax экспоненциально быстро стремиться к единице с ростом аргумента, т.е.\n",
        "\n",
        "$$1-e^{-x} \\leq \\mathrm{softmax}(x) \\leq 1,\\quad x\\to\\infty.$$\n",
        "\n",
        "Т.е. для $x>40$ отличие softmax от 1 меньше $10^{-18}<\\epsilon$,\n",
        "следовательно при оценки погрешности мы можем принять 1 за верное значение для достаточно больших $x$.\n",
        "Расчет на реальных данных показывает, что в пределах машинной точности отличий от 1 для больших аргументов нет."
      ]
    },
    {
      "cell_type": "code",
      "execution_count": null,
      "metadata": {
        "id": "4HRPYYrSQUaP",
        "outputId": "f9902672-26f1-42e3-b5fc-0969e85bb2d9"
      },
      "outputs": [
        {
          "name": "stdout",
          "output_type": "stream",
          "text": [
            "Максимальная погрешность 0.0\n",
            "Минимальная погрешность 0.0\n"
          ]
        }
      ],
      "source": [
        "xs = np.linspace(40, 700, 1000)\n",
        "ys = softmax(xs)\n",
        "err = np.abs((ys-1)/1) # относительная погрешность\n",
        "print(\"Максимальная погрешность\", np.max(err))\n",
        "print(\"Минимальная погрешность\", np.min(err))"
      ]
    },
    {
      "cell_type": "markdown",
      "metadata": {
        "id": "iBNcgrpSQUaP"
      },
      "source": [
        "## Задание\n",
        "\n",
        "* Докажите асимптотику softmax при $x\\to\\infty$.\n",
        "* Объясните, почему функция softmax вычисляеться значительно точнее, чем мы оценили? Что мы упустили?\n",
        "* В выкладках выше мы игнорировали погрешность округления. Что измениться, если ее учесть?\n",
        "* Проведите оценки погрешности вычисления функции $LSE$. Составьте таблицу погрешностей промежуточных вычислений."
      ]
    }
  ],
  "metadata": {
    "kernelspec": {
      "display_name": "Python 3",
      "language": "python",
      "name": "python3"
    },
    "language_info": {
      "codemirror_mode": {
        "name": "ipython",
        "version": 3
      },
      "file_extension": ".py",
      "mimetype": "text/x-python",
      "name": "python",
      "nbconvert_exporter": "python",
      "pygments_lexer": "ipython3",
      "version": "3.7.5"
    },
    "colab": {
      "provenance": []
    }
  },
  "nbformat": 4,
  "nbformat_minor": 0
}